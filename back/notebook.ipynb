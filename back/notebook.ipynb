{
 "cells": [
  {
   "cell_type": "code",
   "execution_count": 1,
   "metadata": {},
   "outputs": [
    {
     "name": "stdout",
     "output_type": "stream",
     "text": [
      "data model created\n",
      "Objective: 13082\n",
      "Route for vehicle 0:\n",
      "0 Time(10:00:00,10:00:00) -> 15 Time(10:08:03,10:39:38) -> 14 Time(10:08:24,10:39:59) -> 16 Time(10:10:48,10:42:23) -> 1 Time(10:14:42,10:46:17) -> 2 Time(10:16:01,10:47:36) -> 3 Time(10:18:01,10:49:36) -> 4 Time(10:20:34,10:52:09) -> 5 Time(10:25:17,10:56:52) -> 45 Time(10:50:58,11:22:33) -> 44 Time(10:52:25,11:24:00) -> 47 Time(10:58:22,11:29:57) -> 46 Time(11:00:09,11:31:44) -> 48 Time(11:03:44,11:35:19) -> 43 Time(11:15:49,11:47:24) -> 39 Time(11:20:59,11:52:34) -> 40 Time(11:21:58,11:53:33) -> 42 Time(12:00:00,12:00:00) -> 41 Time(12:06:28,12:06:28) -> 38 Time(12:14:54,12:14:54) -> 37 Time(12:18:23,12:18:23) -> 35 Time(12:24:53,12:24:53) -> 36 Time(12:28:37,12:28:37) -> 34 Time(12:34:05,12:34:05) -> 33 Time(12:40:50,12:40:50) -> 32 Time(12:45:19,12:45:19) -> 30 Time(12:48:41,12:48:41) -> 31 Time(12:49:33,12:49:33) -> 29 Time(12:52:28,12:52:28) -> 28 Time(12:55:19,12:55:19) -> 27 Time(12:56:09,12:56:09) -> 26 Time(13:00:20,13:00:20) -> 25 Time(13:02:15,13:02:15) -> 24 Time(13:15:10,13:15:10) -> 22 Time(13:19:11,13:19:11) -> 23 Time(13:20:13,13:20:13) -> 21 Time(13:28:15,13:28:15) -> 20 Time(13:29:27,13:29:27) -> 18 Time(13:33:42,13:33:42) -> 19 Time(13:37:09,13:37:09) -> 17 Time(13:41:39,13:41:39) -> 13 Time(13:48:18,13:48:18) -> 11 Time(13:52:46,13:52:46) -> 12 Time(13:54:46,13:54:46) -> 9 Time(13:59:19,13:59:19) -> 10 Time(13:59:19,13:59:19) -> 8 Time(14:01:04,14:01:04) -> 7 Time(14:03:48,14:03:48) -> 6 Time(14:07:17,14:07:17) -> 0 Time(14:09:37,14:09:37)\n",
      "Time of the route: 14977sec\n",
      "\n",
      "Total time of all routes: 14977sec\n"
     ]
    }
   ],
   "source": [
    "from RouteOptimizer import RouteOptimizer\n",
    "from LocationObject import LocationObject\n",
    "import LocationParser\n",
    "\n",
    "depot = LocationObject(\"Gdynia\", \"81-364\", \"Władysława IV\", \"24\", \"10:00:00\", \"22:00:00\")\n",
    "\n",
    "routeOptimizer = RouteOptimizer(LocationParser.parse(\"data/locations.json\"), depot)\n",
    "\n",
    "routeOptimizer.solve()\n"
   ]
  }
 ],
 "metadata": {
  "interpreter": {
   "hash": "e7370f93d1d0cde622a1f8e1c04877d8463912d04d973331ad4851f04de6915a"
  },
  "kernelspec": {
   "display_name": "Python 3.8.10 64-bit",
   "language": "python",
   "name": "python3"
  },
  "language_info": {
   "codemirror_mode": {
    "name": "ipython",
    "version": 3
   },
   "file_extension": ".py",
   "mimetype": "text/x-python",
   "name": "python",
   "nbconvert_exporter": "python",
   "pygments_lexer": "ipython3",
   "version": "3.8.10"
  },
  "orig_nbformat": 4
 },
 "nbformat": 4,
 "nbformat_minor": 2
}
