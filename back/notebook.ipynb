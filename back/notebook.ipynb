{
 "cells": [
  {
   "cell_type": "code",
   "execution_count": 2,
   "metadata": {},
   "outputs": [
    {
     "name": "stdout",
     "output_type": "stream",
     "text": [
      "data model created\n",
      "Objective: 13082\n",
      "Route for vehicle 0:\n",
      "0 Time(36000,36000) -> 15 Time(36483,38378) -> 14 Time(36504,38399) -> 16 Time(36648,38543) -> 1 Time(36882,38777) -> 2 Time(36961,38856) -> 3 Time(37081,38976) -> 4 Time(37234,39129) -> 5 Time(37517,39412) -> 45 Time(39058,40953) -> 44 Time(39145,41040) -> 47 Time(39502,41397) -> 46 Time(39609,41504) -> 48 Time(39824,41719) -> 43 Time(40549,42444) -> 39 Time(40859,42754) -> 40 Time(40918,42813) -> 42 Time(43200,43200) -> 41 Time(43588,43588) -> 38 Time(44094,44094) -> 37 Time(44303,44303) -> 35 Time(44693,44693) -> 36 Time(44917,44917) -> 34 Time(45245,45245) -> 33 Time(45650,45650) -> 32 Time(45919,45919) -> 30 Time(46121,46121) -> 31 Time(46173,46173) -> 29 Time(46348,46348) -> 28 Time(46519,46519) -> 27 Time(46569,46569) -> 26 Time(46820,46820) -> 25 Time(46935,46935) -> 24 Time(47710,47710) -> 22 Time(47951,47951) -> 23 Time(48013,48013) -> 21 Time(48495,48495) -> 20 Time(48567,48567) -> 18 Time(48822,48822) -> 19 Time(49029,49029) -> 17 Time(49299,49299) -> 13 Time(49698,49698) -> 11 Time(49966,49966) -> 12 Time(50086,50086) -> 9 Time(50359,50359) -> 10 Time(50359,50359) -> 8 Time(50464,50464) -> 7 Time(50628,50628) -> 6 Time(50837,50837) -> 0 Time(50977,50977)\n",
      "Time of the route: 14977sec\n",
      "\n",
      "Total time of all routes: 14977sec\n"
     ]
    }
   ],
   "source": [
    "from RouteOptimizer import RouteOptimizer\n",
    "from LocationObject import LocationObject\n",
    "import LocationParser\n",
    "\n",
    "depot = LocationObject(\"Gdynia\", \"81-364\", \"Władysława IV\", \"24\", \"10:00:00\", \"22:00:00\")\n",
    "\n",
    "routeOptimizer = RouteOptimizer(LocationParser.parse(\"data/locations.json\"), depot)\n",
    "\n",
    "routeOptimizer.solve()"
   ]
  }
 ],
 "metadata": {
  "interpreter": {
   "hash": "e7370f93d1d0cde622a1f8e1c04877d8463912d04d973331ad4851f04de6915a"
  },
  "kernelspec": {
   "display_name": "Python 3.8.10 64-bit",
   "language": "python",
   "name": "python3"
  },
  "language_info": {
   "codemirror_mode": {
    "name": "ipython",
    "version": 3
   },
   "file_extension": ".py",
   "mimetype": "text/x-python",
   "name": "python",
   "nbconvert_exporter": "python",
   "pygments_lexer": "ipython3",
   "version": "3.8.10"
  },
  "orig_nbformat": 4
 },
 "nbformat": 4,
 "nbformat_minor": 2
}
