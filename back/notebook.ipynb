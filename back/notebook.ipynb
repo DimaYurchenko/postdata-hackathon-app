{
 "cells": [
  {
   "cell_type": "code",
   "execution_count": 1,
   "metadata": {},
   "outputs": [
    {
     "name": "stdout",
     "output_type": "stream",
     "text": [
      "data model created\n",
      "Objective: 1987\n",
      "Route for vehicle 0:\n",
      "0 Time(36000,36000) -> 1 Time(36762,36762) -> 2 Time(36841,36841) -> 3 Time(36961,36961) -> 4 Time(37114,37114) -> 0 Time(37987,37987)\n",
      "Time of the route: 37987min\n",
      "\n",
      "Total time of all routes: 37987min\n"
     ]
    }
   ],
   "source": [
    "from RouteOptimizer import RouteOptimizer\n",
    "from LocationObject import LocationObject\n",
    "import LocationParser\n",
    "\n",
    "depot = LocationObject(\"Gdynia\", \"81-364\", \"Władysława IV\", \"24\", \"10:00:00\", \"22:00:00\")\n",
    "\n",
    "routeOptimizer = RouteOptimizer(LocationParser.parse(\"data/solutions.json\"), depot)\n",
    "\n",
    "routeOptimizer.solve()\n",
    "routeOptimizer.writeSolution()"
   ]
  }
 ],
 "metadata": {
  "interpreter": {
   "hash": "e7370f93d1d0cde622a1f8e1c04877d8463912d04d973331ad4851f04de6915a"
  },
  "kernelspec": {
   "display_name": "Python 3.8.10 64-bit",
   "language": "python",
   "name": "python3"
  },
  "language_info": {
   "codemirror_mode": {
    "name": "ipython",
    "version": 3
   },
   "file_extension": ".py",
   "mimetype": "text/x-python",
   "name": "python",
   "nbconvert_exporter": "python",
   "pygments_lexer": "ipython3",
   "version": "3.8.10"
  },
  "orig_nbformat": 4
 },
 "nbformat": 4,
 "nbformat_minor": 2
}
