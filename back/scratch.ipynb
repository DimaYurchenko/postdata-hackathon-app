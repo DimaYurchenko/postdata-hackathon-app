{
 "cells": [
  {
   "cell_type": "code",
   "execution_count": 1,
   "metadata": {},
   "outputs": [
    {
     "name": "stdout",
     "output_type": "stream",
     "text": [
      "{'time_matrix': [[0, 762, 797, 761, 873, 1061, 140, 154, 316, 542, 524, 586, 503], [762, 0, 79, 156, 268, 456, 696, 673, 606, 667, 713, 501, 454], [797, 79, 0, 120, 232, 420, 756, 734, 667, 727, 773, 562, 515], [761, 156, 120, 0, 153, 341, 747, 724, 657, 718, 764, 553, 505], [873, 268, 232, 153, 0, 283, 813, 790, 723, 784, 830, 619, 572], [1061, 456, 420, 341, 283, 0, 897, 897, 920, 981, 1027, 815, 768], [140, 696, 756, 747, 813, 897, 0, 209, 371, 598, 580, 641, 567], [154, 673, 734, 724, 790, 897, 209, 0, 179, 405, 387, 432, 407], [316, 606, 667, 657, 723, 920, 371, 179, 0, 227, 273, 334, 307], [542, 667, 727, 718, 784, 981, 598, 405, 227, 0, 120, 268, 362], [524, 713, 773, 764, 830, 1027, 580, 387, 273, 120, 0, 321, 416], [586, 501, 562, 553, 619, 815, 641, 432, 334, 268, 321, 0, 258], [503, 454, 515, 505, 572, 768, 567, 407, 307, 362, 416, 258, 0]], 'time_windows': [(32400, 79200), (28800, 57600), (28800, 57600), (28800, 57600), (28800, 57600), (28800, 57600), (28800, 57600), (28800, 57600), (28800, 57600), (28800, 57600), (28800, 57600), (28800, 57600), (36000, 57600)], 'num_vehicles': 1, 'depot': 0}\n",
      "data model created\n"
     ]
    },
    {
     "ename": "Exception",
     "evalue": "CP Solver fail",
     "output_type": "error",
     "traceback": [
      "\u001b[0;31m---------------------------------------------------------------------------\u001b[0m",
      "\u001b[0;31mException\u001b[0m                                 Traceback (most recent call last)",
      "\u001b[0;32m<ipython-input-1-04c85e064b75>\u001b[0m in \u001b[0;36m<module>\u001b[0;34m\u001b[0m\n\u001b[1;32m      9\u001b[0m \u001b[0;34m\u001b[0m\u001b[0m\n\u001b[1;32m     10\u001b[0m \u001b[0mprint\u001b[0m\u001b[0;34m(\u001b[0m\u001b[0mrouteOptimizer\u001b[0m\u001b[0;34m.\u001b[0m\u001b[0mcreate_data_model\u001b[0m\u001b[0;34m(\u001b[0m\u001b[0;34m)\u001b[0m\u001b[0;34m)\u001b[0m\u001b[0;34m\u001b[0m\u001b[0;34m\u001b[0m\u001b[0m\n\u001b[0;32m---> 11\u001b[0;31m \u001b[0mrouteOptimizer\u001b[0m\u001b[0;34m.\u001b[0m\u001b[0msolve\u001b[0m\u001b[0;34m(\u001b[0m\u001b[0;34m)\u001b[0m\u001b[0;34m\u001b[0m\u001b[0;34m\u001b[0m\u001b[0m\n\u001b[0m",
      "\u001b[0;32m~/Desktop/planetExpress/RouteOptimizer.py\u001b[0m in \u001b[0;36msolve\u001b[0;34m(self)\u001b[0m\n\u001b[1;32m    124\u001b[0m                 \u001b[0;32mcontinue\u001b[0m\u001b[0;34m\u001b[0m\u001b[0;34m\u001b[0m\u001b[0m\n\u001b[1;32m    125\u001b[0m             \u001b[0mindex\u001b[0m \u001b[0;34m=\u001b[0m \u001b[0mmanager\u001b[0m\u001b[0;34m.\u001b[0m\u001b[0mNodeToIndex\u001b[0m\u001b[0;34m(\u001b[0m\u001b[0mlocation_idx\u001b[0m\u001b[0;34m)\u001b[0m\u001b[0;34m\u001b[0m\u001b[0;34m\u001b[0m\u001b[0m\n\u001b[0;32m--> 126\u001b[0;31m             \u001b[0mtime_dimension\u001b[0m\u001b[0;34m.\u001b[0m\u001b[0mCumulVar\u001b[0m\u001b[0;34m(\u001b[0m\u001b[0mindex\u001b[0m\u001b[0;34m)\u001b[0m\u001b[0;34m.\u001b[0m\u001b[0mSetRange\u001b[0m\u001b[0;34m(\u001b[0m\u001b[0mtime_window\u001b[0m\u001b[0;34m[\u001b[0m\u001b[0;36m0\u001b[0m\u001b[0;34m]\u001b[0m\u001b[0;34m,\u001b[0m \u001b[0mtime_window\u001b[0m\u001b[0;34m[\u001b[0m\u001b[0;36m1\u001b[0m\u001b[0;34m]\u001b[0m\u001b[0;34m)\u001b[0m\u001b[0;34m\u001b[0m\u001b[0;34m\u001b[0m\u001b[0m\n\u001b[0m\u001b[1;32m    127\u001b[0m         \u001b[0;31m# Add time window constraints for each vehicle start node.\u001b[0m\u001b[0;34m\u001b[0m\u001b[0;34m\u001b[0m\u001b[0;34m\u001b[0m\u001b[0m\n\u001b[1;32m    128\u001b[0m         \u001b[0mdepot_idx\u001b[0m \u001b[0;34m=\u001b[0m \u001b[0mdata\u001b[0m\u001b[0;34m[\u001b[0m\u001b[0;34m'depot'\u001b[0m\u001b[0;34m]\u001b[0m\u001b[0;34m\u001b[0m\u001b[0;34m\u001b[0m\u001b[0m\n",
      "\u001b[0;32m~/.local/lib/python3.8/site-packages/ortools/constraint_solver/pywrapcp.py\u001b[0m in \u001b[0;36mSetRange\u001b[0;34m(self, l, u)\u001b[0m\n\u001b[1;32m   2388\u001b[0m     \u001b[0;32mdef\u001b[0m \u001b[0mSetRange\u001b[0m\u001b[0;34m(\u001b[0m\u001b[0mself\u001b[0m\u001b[0;34m,\u001b[0m \u001b[0ml\u001b[0m\u001b[0;34m:\u001b[0m \u001b[0;34m\"int64\"\u001b[0m\u001b[0;34m,\u001b[0m \u001b[0mu\u001b[0m\u001b[0;34m:\u001b[0m \u001b[0;34m\"int64\"\u001b[0m\u001b[0;34m)\u001b[0m \u001b[0;34m->\u001b[0m \u001b[0;34m\"void\"\u001b[0m\u001b[0;34m:\u001b[0m\u001b[0;34m\u001b[0m\u001b[0;34m\u001b[0m\u001b[0m\n\u001b[1;32m   2389\u001b[0m         \u001b[0;34mr\"\"\" This method sets both the min and the max of the expression.\"\"\"\u001b[0m\u001b[0;34m\u001b[0m\u001b[0;34m\u001b[0m\u001b[0m\n\u001b[0;32m-> 2390\u001b[0;31m         \u001b[0;32mreturn\u001b[0m \u001b[0m_pywrapcp\u001b[0m\u001b[0;34m.\u001b[0m\u001b[0mIntExpr_SetRange\u001b[0m\u001b[0;34m(\u001b[0m\u001b[0mself\u001b[0m\u001b[0;34m,\u001b[0m \u001b[0ml\u001b[0m\u001b[0;34m,\u001b[0m \u001b[0mu\u001b[0m\u001b[0;34m)\u001b[0m\u001b[0;34m\u001b[0m\u001b[0;34m\u001b[0m\u001b[0m\n\u001b[0m\u001b[1;32m   2391\u001b[0m \u001b[0;34m\u001b[0m\u001b[0m\n\u001b[1;32m   2392\u001b[0m     \u001b[0;32mdef\u001b[0m \u001b[0mSetValue\u001b[0m\u001b[0;34m(\u001b[0m\u001b[0mself\u001b[0m\u001b[0;34m,\u001b[0m \u001b[0mv\u001b[0m\u001b[0;34m:\u001b[0m \u001b[0;34m\"int64\"\u001b[0m\u001b[0;34m)\u001b[0m \u001b[0;34m->\u001b[0m \u001b[0;34m\"void\"\u001b[0m\u001b[0;34m:\u001b[0m\u001b[0;34m\u001b[0m\u001b[0;34m\u001b[0m\u001b[0m\n",
      "\u001b[0;31mException\u001b[0m: CP Solver fail"
     ]
    }
   ],
   "source": [
    "from RouteOptimizer import RouteOptimizer\n",
    "from LocationObject import LocationObject\n",
    "import numpy\n",
    "import LocationParser\n",
    "\n",
    "depot = LocationObject(\"Gdynia\", \"81-364\", \"Władysława IV\", \"24\", \"09:00:00\", \"22:00:00\")\n",
    "\n",
    "routeOptimizer = RouteOptimizer(LocationParser.parse(\"smallData.json\"), depot)\n",
    "\n",
    "print(routeOptimizer.create_data_model())\n",
    "routeOptimizer.solve()"
   ]
  }
 ],
 "metadata": {
  "interpreter": {
   "hash": "e7370f93d1d0cde622a1f8e1c04877d8463912d04d973331ad4851f04de6915a"
  },
  "kernelspec": {
   "display_name": "Python 3.8.10 64-bit",
   "language": "python",
   "name": "python3"
  },
  "language_info": {
   "codemirror_mode": {
    "name": "ipython",
    "version": 3
   },
   "file_extension": ".py",
   "mimetype": "text/x-python",
   "name": "python",
   "nbconvert_exporter": "python",
   "pygments_lexer": "ipython3",
   "version": "3.8.10"
  },
  "orig_nbformat": 4
 },
 "nbformat": 4,
 "nbformat_minor": 2
}
