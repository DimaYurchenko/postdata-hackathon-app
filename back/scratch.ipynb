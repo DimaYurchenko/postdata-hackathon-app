{
 "cells": [
  {
   "cell_type": "code",
   "execution_count": 1,
   "metadata": {},
   "outputs": [
    {
     "name": "stdout",
     "output_type": "stream",
     "text": [
      "data model created\n",
      "Objective: 193\n",
      "Route for vehicle 0:\n",
      "0 Time(600,600) -> 7 Time(602,656) -> 8 Time(604,658) -> 9 Time(605,659) -> 10 Time(605,659) -> 12 Time(609,663) -> 11 Time(611,665) -> 13 Time(615,669) -> 17 Time(621,675) -> 18 Time(626,680) -> 19 Time(629,683) -> 20 Time(631,685) -> 21 Time(632,686) -> 23 Time(640,694) -> 22 Time(641,695) -> 24 Time(645,699) -> 25 Time(657,711) -> 26 Time(658,712) -> 27 Time(662,716) -> 28 Time(662,716) -> 29 Time(664,718) -> 31 Time(720,720) -> 30 Time(720,720) -> 32 Time(723,723) -> 33 Time(727,727) -> 34 Time(733,733) -> 36 Time(738,738) -> 35 Time(741,741) -> 37 Time(747,747) -> 38 Time(750,750) -> 43 Time(755,755) -> 39 Time(760,760) -> 40 Time(760,760) -> 41 Time(763,763) -> 42 Time(769,769) -> 48 Time(787,787) -> 46 Time(790,790) -> 47 Time(791,791) -> 44 Time(796,796) -> 45 Time(797,797) -> 5 Time(822,822) -> 4 Time(826,826) -> 3 Time(828,828) -> 2 Time(830,830) -> 1 Time(831,831) -> 16 Time(834,834) -> 14 Time(836,836) -> 15 Time(836,836) -> 6 Time(845,845) -> 0 Time(847,847)\n",
      "Time of the route: 847min\n",
      "\n",
      "Total time of all routes: 847min\n"
     ]
    }
   ],
   "source": [
    "from RouteOptimizer import RouteOptimizer\n",
    "from LocationObject import LocationObject\n",
    "import LocationParser\n",
    "\n",
    "depot = LocationObject(\"Gdynia\", \"81-364\", \"Władysława IV\", \"24\", \"10:00:00\", \"22:00:00\")\n",
    "\n",
    "routeOptimizer = RouteOptimizer(LocationParser.parse(\"locations.json\"), depot)\n",
    "\n",
    "routeOptimizer.solve()\n",
    "\n"
   ]
  },
  {
   "cell_type": "code",
   "execution_count": 1,
   "metadata": {},
   "outputs": [
    {
     "name": "stdout",
     "output_type": "stream",
     "text": [
      "data model created\n",
      "Objective: 193\n",
      "Route for vehicle 0:\n",
      "0 Time(600,600) -> 7 Time(602,656) -> 8 Time(604,658) -> 9 Time(605,659) -> 10 Time(605,659) -> 12 Time(609,663) -> 11 Time(611,665) -> 13 Time(615,669) -> 17 Time(621,675) -> 18 Time(626,680) -> 19 Time(629,683) -> 20 Time(631,685) -> 21 Time(632,686) -> 23 Time(640,694) -> 22 Time(641,695) -> 24 Time(645,699) -> 25 Time(657,711) -> 26 Time(658,712) -> 27 Time(662,716) -> 28 Time(662,716) -> 29 Time(664,718) -> 31 Time(720,720) -> 30 Time(720,720) -> 32 Time(723,723) -> 33 Time(727,727) -> 34 Time(733,733) -> 36 Time(738,738) -> 35 Time(741,741) -> 37 Time(747,747) -> 38 Time(750,750) -> 43 Time(755,755) -> 39 Time(760,760) -> 40 Time(760,760) -> 41 Time(763,763) -> 42 Time(769,769) -> 48 Time(787,787) -> 46 Time(790,790) -> 47 Time(791,791) -> 44 Time(796,796) -> 45 Time(797,797) -> 5 Time(822,822) -> 4 Time(826,826) -> 3 Time(828,828) -> 2 Time(830,830) -> 1 Time(831,831) -> 16 Time(834,834) -> 14 Time(836,836) -> 15 Time(836,836) -> 6 Time(845,845) -> 0 Time(847,847)\n",
      "Time of the route: 847min\n",
      "\n",
      "Total time of all routes: 847min\n"
     ]
    }
   ],
   "source": [
    "from RouteOptimizer import RouteOptimizer\n",
    "from LocationObject import LocationObject\n",
    "import LocationParser\n",
    "\n",
    "depot = LocationObject(\"Gdynia\", \"81-364\", \"Władysława IV\", \"24\", \"10:00:00\", \"22:00:00\")\n",
    "\n",
    "routeOptimizer = RouteOptimizer(LocationParser.parse(\"locations.json\"), depot)\n",
    "\n",
    "routeOptimizer.solve()"
   ]
  },
  {
   "cell_type": "code",
   "execution_count": 1,
   "metadata": {},
   "outputs": [
    {
     "name": "stdout",
     "output_type": "stream",
     "text": [
      "data model created\n",
      "Objective: 193\n",
      "Route for vehicle 0:\n",
      "0 Time(600,600) -> 7 Time(602,632) -> 8 Time(604,658) -> 9 Time(605,659) -> 10 Time(605,659) -> 12 Time(609,663) -> 11 Time(611,665) -> 13 Time(615,669) -> 17 Time(621,675) -> 18 Time(626,680) -> 19 Time(629,683) -> 20 Time(631,685) -> 21 Time(632,686) -> 23 Time(640,694) -> 22 Time(641,695) -> 24 Time(645,699) -> 25 Time(657,711) -> 26 Time(658,712) -> 27 Time(662,716) -> 28 Time(662,716) -> 29 Time(688,718) -> 31 Time(720,720) -> 30 Time(720,720) -> 32 Time(723,723) -> 33 Time(727,727) -> 34 Time(733,733) -> 36 Time(738,738) -> 35 Time(741,741) -> 37 Time(747,747) -> 38 Time(750,750) -> 43 Time(755,755) -> 39 Time(760,760) -> 40 Time(760,760) -> 41 Time(763,763) -> 42 Time(769,769) -> 48 Time(787,787) -> 46 Time(790,790) -> 47 Time(791,791) -> 44 Time(796,796) -> 45 Time(797,797) -> 5 Time(822,822) -> 4 Time(826,826) -> 3 Time(828,828) -> 2 Time(830,830) -> 1 Time(831,831) -> 16 Time(834,834) -> 14 Time(836,836) -> 15 Time(836,836) -> 6 Time(845,845) -> 0 Time(847,847)\n",
      "Time of the route: 847min\n",
      "\n",
      "Total time of all routes: 847min\n"
     ]
    }
   ],
   "source": [
    "from RouteOptimizer import RouteOptimizer\n",
    "from LocationObject import LocationObject\n",
    "import LocationParser\n",
    "\n",
    "depot = LocationObject(\"Gdynia\", \"81-364\", \"Władysława IV\", \"24\", \"10:00:00\", \"22:00:00\")\n",
    "\n",
    "routeOptimizer = RouteOptimizer(LocationParser.parse(\"locations.json\"), depot)\n",
    "\n",
    "routeOptimizer.solve()\n",
    "\n",
    "print(routeOptimizer.timeMatrix[39][40])"
   ]
  }
 ],
 "metadata": {
  "interpreter": {
   "hash": "e7370f93d1d0cde622a1f8e1c04877d8463912d04d973331ad4851f04de6915a"
  },
  "kernelspec": {
   "display_name": "Python 3.8.10 64-bit",
   "language": "python",
   "name": "python3"
  },
  "language_info": {
   "codemirror_mode": {
    "name": "ipython",
    "version": 3
   },
   "file_extension": ".py",
   "mimetype": "text/x-python",
   "name": "python",
   "nbconvert_exporter": "python",
   "pygments_lexer": "ipython3",
   "version": "3.8.10"
  },
  "orig_nbformat": 4
 },
 "nbformat": 4,
 "nbformat_minor": 2
}
